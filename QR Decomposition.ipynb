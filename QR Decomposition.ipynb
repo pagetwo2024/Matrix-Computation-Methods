{
 "cells": [
  {
   "cell_type": "code",
   "execution_count": 9,
   "metadata": {},
   "outputs": [
    {
     "data": {
      "text/latex": [
       "\\begin{equation}\n",
       "\\begin{aligned}\n",
       "\n",
       "\\text{1. Need to solve the equation } (\\lambda I-B)x = 0\\\\\n",
       "\\text{consider }det(B-\\lambda I) = (0-\\lambda)(0-\\lambda)-A^*A = 0 \\\\\n",
       "\\lambda^2 -A^*A = 0 \\\\\n",
       "\\text{Consider } A = UΣV^T =σ_1u_1v_1^T+...+σ_mu_mv_m^T\\\\\n",
       "\\lambda^2 = A^*A= VΣ^TU^*UΣV^* = VΣ^2V^* = Σ^2\\\\\n",
       "\\lambda^2 = (σ_j)^2, \\text{ thus we have eigenvalues of }-σ_j, σ_j\\\\\n",
       "\\text{To find eigenvectors, we subsitute the eigenvalues, we have}\\\\\n",
       "-σ_jx_1+A^*x_2 = 0, Ax_1-σ_jx_2 = 0 \\text{ and}\\\\\n",
       "σ_jx_1+A^*x_2 = 0, Ax_1+σ_jx_2 = 0 \\\\\n",
       "\\text{By solving the linear equations, we end up with x=}\\begin{bmatrix}v_j \\\\ ± u_j \\end{bmatrix}\n",
       "\\end{aligned}\n",
       "\\text{}\n",
       "\\end{equation}\n"
      ],
      "text/plain": [
       "<IPython.core.display.Latex object>"
      ]
     },
     "metadata": {},
     "output_type": "display_data"
    }
   ],
   "source": [
    "%%latex\n",
    "\\begin{equation}\n",
    "\\begin{aligned}\n",
    "\n",
    "\\text{1. Need to solve the equation } (\\lambda I-B)x = 0\\\\\n",
    "\\text{consider }det(B-\\lambda I) = (0-\\lambda)(0-\\lambda)-A^*A = 0 \\\\\n",
    "\\lambda^2 -A^*A = 0 \\\\\n",
    "\\text{Consider } A = UΣV^T =σ_1u_1v_1^T+...+σ_mu_mv_m^T\\\\\n",
    "\\lambda^2 = A^*A= VΣ^TU^*UΣV^* = VΣ^2V^* = Σ^2\\\\\n",
    "\\lambda^2 = (σ_j)^2, \\text{ thus we have eigenvalues of }-σ_j, σ_j\\\\\n",
    "\\text{To find eigenvectors, we subsitute the eigenvalues, we have}\\\\\n",
    "-σ_jx_1+A^*x_2 = 0, Ax_1-σ_jx_2 = 0 \\text{ and}\\\\\n",
    "σ_jx_1+A^*x_2 = 0, Ax_1+σ_jx_2 = 0 \\\\\n",
    "\\text{By solving the linear equations, we end up with x=}\\begin{bmatrix}v_j \\\\ ± u_j \\end{bmatrix}\n",
    "\\end{aligned}\n",
    "\\text{}\n",
    "\\end{equation}"
   ]
  },
  {
   "cell_type": "code",
   "execution_count": 10,
   "metadata": {},
   "outputs": [
    {
     "data": {
      "text/latex": [
       "\\begin{equation}\n",
       "\\begin{aligned}\n",
       "\\text{2. First, it is clear that the norm of } \\alpha \\|x_o\\|_2e_1 \\text{ and the norm of } x_0 \\text{ are the same.}\\\\\n",
       "\\text{ Let } a = \\alpha \\|x_o\\|_2e_1，\\text{we have } a^Ta = \\|a\\|^2 = \\|x_0\\|^2 = x_0^Tx_0\\\\\n",
       "\\text{Need to prove }Hx_0 = \\alpha \\|x_o\\|_2e_1 = \\tilde{v}+x_0 \\\\\n",
       "\\text{And } Hx_0 = (I-2vv^T)x_0 =x_0-2vv^Tx_0 \\\\\n",
       "\\text{So we need to prove that} -2vv^Tx_0 = \\tilde{v}\\\\\n",
       "\\text{Consider }v^Tv={\\|v\\|_2}^2. then \\\\\n",
       "-2vv^Tx_0=\\dfrac{-2\\tilde{v}\\tilde{v}^T}{{\\|v\\|_2}^2}x_0=\\tilde{v}\\dfrac{-2\\tilde{v}^Tx_0}{\\tilde{v}^T\\tilde{v}} = \\tilde{v}\\dfrac{-2(a-x_0)^Tx_0}{(a-x_0)^T(a-x_0)}= \\tilde{v}\\dfrac{-2(a^Tx_0-x_0^Tx_0)}{a^Ta+x_0^Tx_0-2a^Tx_0}=\\tilde{v}\\dfrac{-2(a^Tx_0-x_0^Tx_0)}{-2(a^Tx_0-x_0^Tx_0)}=\\tilde{v}\\\\\n",
       "\\text{If }H^2=HH=I, \\text{then } H=H^{-1}\\\\\n",
       "HH= (I-2vv^T) (I-2vv^T)=I-2vv^T-2vv^T+4vv^Tvv^T = I-4vv^T+4vv^T  = I\\\\\n",
       "\\text{Here v is a unit vector so we have } v^Tv = 1\n",
       "\\end{aligned}\n",
       "\\end{equation}\n"
      ],
      "text/plain": [
       "<IPython.core.display.Latex object>"
      ]
     },
     "metadata": {},
     "output_type": "display_data"
    }
   ],
   "source": [
    "%%latex\n",
    "\\begin{equation}\n",
    "\\begin{aligned}\n",
    "\\text{2. First, it is clear that the norm of } \\alpha \\|x_o\\|_2e_1 \\text{ and the norm of } x_0 \\text{ are the same.}\\\\\n",
    "\\text{ Let } a = \\alpha \\|x_o\\|_2e_1，\\text{we have } a^Ta = \\|a\\|^2 = \\|x_0\\|^2 = x_0^Tx_0\\\\\n",
    "\\text{Need to prove }Hx_0 = \\alpha \\|x_o\\|_2e_1 = \\tilde{v}+x_0 \\\\\n",
    "\\text{And } Hx_0 = (I-2vv^T)x_0 =x_0-2vv^Tx_0 \\\\\n",
    "\\text{So we need to prove that} -2vv^Tx_0 = \\tilde{v}\\\\\n",
    "\\text{Consider }v^Tv={\\|v\\|_2}^2. then \\\\\n",
    "-2vv^Tx_0=\\dfrac{-2\\tilde{v}\\tilde{v}^T}{{\\|v\\|_2}^2}x_0=\\tilde{v}\\dfrac{-2\\tilde{v}^Tx_0}{\\tilde{v}^T\\tilde{v}} = \\tilde{v}\\dfrac{-2(a-x_0)^Tx_0}{(a-x_0)^T(a-x_0)}= \\tilde{v}\\dfrac{-2(a^Tx_0-x_0^Tx_0)}{a^Ta+x_0^Tx_0-2a^Tx_0}=\\tilde{v}\\dfrac{-2(a^Tx_0-x_0^Tx_0)}{-2(a^Tx_0-x_0^Tx_0)}=\\tilde{v}\\\\\n",
    "\\text{If }H^2=HH=I, \\text{then } H=H^{-1}\\\\\n",
    "HH= (I-2vv^T) (I-2vv^T)=I-2vv^T-2vv^T+4vv^Tvv^T = I-4vv^T+4vv^T  = I\\\\\n",
    "\\text{Here v is a unit vector so we have } v^Tv = 1\n",
    "\\end{aligned}\n",
    "\\end{equation}"
   ]
  },
  {
   "cell_type": "code",
   "execution_count": 11,
   "metadata": {},
   "outputs": [
    {
     "data": {
      "text/latex": [
       "\\begin{equation}\n",
       "\\begin{aligned}\n",
       "\\text{3. In a QR decomposition, we have A = QR where Q and R are m x n matrices over real number field. }\\\\\n",
       "\\text{Here Q is orthogonal and R is upper triangular.}\\\\\n",
       "\\text{The householder reflector can be used to construct Q and R. }\\\\\n",
       "\\text{First, consider A = }[a_{11},a_{21},...a_{n1}; a_{12},...,a_{n2};...a_{1m},...a_{mn}]\\\\\n",
       "\\text{Let }C_1 = [a_{11},a_{12},...a_{1m}] \\text{to be the first colunm of A}\\\\\n",
       "\\text{Then we construct householder reflector Q1 by } \\tilde{v} = \\alpha \\|C_1\\|_2e_1 -C_1 \\\\\n",
       "\\text{So that we have zeros in the rest of the first column of QA}\\\\\n",
       "\\text{Q2 can be constructed with the same process but with the minor matrix A.}\\\\\n",
       "\\text{Then we have }R = Q_{N-1}...Q_1A \\text{ and }Q =(Q_{N-1}...Q_1)^T\n",
       "\\end{aligned}\n",
       "\\end{equation}\n"
      ],
      "text/plain": [
       "<IPython.core.display.Latex object>"
      ]
     },
     "metadata": {},
     "output_type": "display_data"
    }
   ],
   "source": [
    "%%latex\n",
    "\\begin{equation}\n",
    "\\begin{aligned}\n",
    "\\text{3. In a QR decomposition, we have A = QR where Q and R are m x n matrices over real number field. }\\\\\n",
    "\\text{Here Q is orthogonal and R is upper triangular.}\\\\\n",
    "\\text{The householder reflector can be used to construct Q and R. }\\\\\n",
    "\\text{First, consider A = }[a_{11},a_{21},...a_{n1}; a_{12},...,a_{n2};...a_{1m},...a_{mn}]\\\\\n",
    "\\text{Let }C_1 = [a_{11},a_{12},...a_{1m}] \\text{to be the first colunm of A}\\\\\n",
    "\\text{Then we construct householder reflector Q1 by } \\tilde{v} = \\alpha \\|C_1\\|_2e_1 -C_1 \\\\\n",
    "\\text{So that we have zeros in the rest of the first column of QA}\\\\\n",
    "\\text{Q2 can be constructed with the same process but with the minor matrix A.}\\\\\n",
    "\\text{Then we have }R = Q_{N-1}...Q_1A \\text{ and }Q =(Q_{N-1}...Q_1)^T\n",
    "\\end{aligned}\n",
    "\\end{equation}"
   ]
  },
  {
   "cell_type": "code",
   "execution_count": 255,
   "metadata": {},
   "outputs": [
    {
     "name": "stdout",
     "output_type": "stream",
     "text": [
      "The relative residual is 7.202081281242661e-16.\n"
     ]
    }
   ],
   "source": [
    "import numpy as np\n",
    "def householder_qr(A):\n",
    "    R = A.copy()\n",
    "    Q_t = np.identity(m)\n",
    "    \n",
    "    for i in range(n):\n",
    "        e_i = np.zeros(m - i)\n",
    "        e_i[0] = 1\n",
    "        c_i = A[i:m+1,i]\n",
    "        if np.linalg.norm(c_i,2) == 0:\n",
    "            i=i+1\n",
    "        alpha = np.sign(c_i[0])\n",
    "        v_i = alpha*np.linalg.norm(c_i,2)*e_i - c_i\n",
    "        v_i = v_i/np.linalg.norm(v_i)\n",
    "        v_i = np.mat(v_i)\n",
    "        I = np.identity(m)\n",
    "        H_i = I\n",
    "        H_i[i:,i:] = I[i:,i:]-2*(np.matmul(np.transpose(v_i),v_i))\n",
    "        A = np.matmul(H_i, A)\n",
    "        Q_t = np.matmul(H_i,Q_t)\n",
    "        R = np.matmul(H_i,R)\n",
    "    return np.transpose(Q_t),R\n",
    "\n",
    "pass\n",
    "rand = np.random.RandomState(0)\n",
    "m = 15\n",
    "n = 10\n",
    "A = rand.randn(m, n)\n",
    "Q, R = householder_qr(A)\n",
    "rel_residual = np.linalg.norm(A - Q @ R) / np.linalg.norm(A)\n",
    "print(f\"The relative residual is {rel_residual}.\")"
   ]
  },
  {
   "cell_type": "code",
   "execution_count": 4,
   "metadata": {},
   "outputs": [
    {
     "data": {
      "text/latex": [
       "\\begin{equation}\n",
       "\\begin{aligned}\n",
       "\n",
       "\\text{4. Since we are using floating point arithmetic, to avoid  creating catastrophic cancelation, we need to consider the sign of pivot coordinate (the first term of minor matrix A, say X1).}\\\\\n",
       "\\text{If norm of x0 is very close to x1, then the difference between x1 and norm of x0 is a small value.}\\\\\n",
       "\\text{If there is an error in x1 and norm of x0, the the difference between x1 and norm of x0 will be larger, and this error will be increased.}\\\\\n",
       "\\text{However, no matter what the sign of x1 is, this error can always be avoided by using the alpha, where alpha = x1/modulus of x1.}\\\\\n",
       "\\end{aligned}\n",
       "\\end{equation}\n"
      ],
      "text/plain": [
       "<IPython.core.display.Latex object>"
      ]
     },
     "metadata": {},
     "output_type": "display_data"
    }
   ],
   "source": [
    "%%latex\n",
    "\\begin{equation}\n",
    "\\begin{aligned}\n",
    "\n",
    "\\text{4. Since we are using floating point arithmetic, to avoid  creating catastrophic cancelation, we need to consider the sign of pivot coordinate (the first term of minor matrix A, say X1).}\\\\\n",
    "\\text{If norm of x0 is very close to x1, then the difference between x1 and norm of x0 is a small value.}\\\\\n",
    "\\text{If there is an error in x1 and norm of x0, the the difference between x1 and norm of x0 will be larger, and this error will be increased.}\\\\\n",
    "\\text{However, no matter what the sign of x1 is, this error can always be avoided by using the alpha, where alpha = x1/modulus of x1.}\\\\\n",
    "\\end{aligned}\n",
    "\\end{equation}"
   ]
  },
  {
   "cell_type": "code",
   "execution_count": 18,
   "metadata": {},
   "outputs": [
    {
     "name": "stdout",
     "output_type": "stream",
     "text": [
      "5. Use the algorithm in Q3 to calcualte QTQ = [[ 1.00000000e+00  1.27666462e-17 -5.52304795e-16  9.92472850e-17\n",
      "  -8.99799488e-17  3.98549938e-17 -6.00475720e-17  4.14818336e-17\n",
      "  -1.78491092e-16 -1.62968227e-17  1.43539615e-16  3.48308293e-16\n",
      "   1.73472348e-16 -1.59594560e-16 -2.07733136e-16]\n",
      " [ 1.27666462e-17  1.00000000e+00  1.51408892e-17 -1.06006667e-16\n",
      "   4.02669536e-16 -1.84808363e-17  1.05908027e-16  3.21516382e-16\n",
      "   1.03901101e-16 -1.03041922e-16  1.70474996e-17  1.88624103e-16\n",
      "  -1.38777878e-16 -1.11022302e-16  0.00000000e+00]\n",
      " [-5.52304795e-16  1.51408892e-17  1.00000000e+00 -1.01272734e-16\n",
      "  -2.63648051e-16 -7.49154953e-17 -3.26397972e-16 -6.79896288e-17\n",
      "  -4.42388243e-17 -2.66561288e-17  3.99677184e-17  2.33550468e-16\n",
      "   1.00613962e-16 -9.02056208e-17 -3.53016227e-16]\n",
      " [ 9.92472850e-17 -1.06006667e-16 -1.01272734e-16  1.00000000e+00\n",
      "   7.26242963e-17 -1.95782570e-16 -3.81251737e-17 -1.34220052e-16\n",
      "   5.41665908e-17 -2.44911111e-17 -6.86331400e-17 -1.48574096e-16\n",
      "  -1.24900090e-16  1.82145965e-16  1.16660154e-16]\n",
      " [-8.99799488e-17  4.02669536e-16 -2.63648051e-16  7.26242963e-17\n",
      "   1.00000000e+00  1.89389463e-16 -7.21287231e-18  1.09636786e-16\n",
      "  -6.42262546e-17  1.01258108e-17  8.05339711e-17  2.00353706e-16\n",
      "   4.16333634e-17 -2.08166817e-17 -2.01227923e-16]\n",
      " [ 3.98549938e-17 -1.84808363e-17 -7.49154953e-17 -1.95782570e-16\n",
      "   1.89389463e-16  1.00000000e+00 -1.27181666e-16  4.22046705e-16\n",
      "   1.54075650e-16 -1.06172652e-16  3.32971545e-17  3.84860811e-16\n",
      "   9.36750677e-17 -3.01841885e-16 -1.49186219e-16]\n",
      " [-6.00475720e-17  1.05908027e-16 -3.26397972e-16 -3.81251737e-17\n",
      "  -7.21287231e-18 -1.27181666e-16  1.00000000e+00 -1.87407647e-16\n",
      "   5.31141224e-17  1.05570534e-16  1.46367101e-16  2.27984035e-18\n",
      "  -7.69783542e-17  8.74951153e-17 -1.12485975e-17]\n",
      " [ 4.14818336e-17  3.21516382e-16 -6.79896288e-17 -1.34220052e-16\n",
      "   1.09636786e-16  4.22046705e-16 -1.87407647e-16  1.00000000e+00\n",
      "  -4.31352076e-17  1.04032712e-17 -7.93968228e-17 -6.57425066e-17\n",
      "   2.49800181e-16 -5.55111512e-17 -5.55111512e-17]\n",
      " [-1.78491092e-16  1.03901101e-16 -4.42388243e-17  5.41665908e-17\n",
      "  -6.42262546e-17  1.54075650e-16  5.31141224e-17 -4.31352076e-17\n",
      "   1.00000000e+00  5.26737586e-17 -9.09293449e-18  1.20772445e-16\n",
      "  -1.08420217e-16 -1.42681006e-16 -2.58148537e-16]\n",
      " [-1.62968227e-17 -1.03041922e-16 -2.66561288e-17 -2.44911111e-17\n",
      "   1.01258108e-17 -1.06172652e-16  1.05570534e-16  1.04032712e-17\n",
      "   5.26737586e-17  1.00000000e+00 -9.50573855e-17  1.90726287e-16\n",
      "  -6.24500451e-17 -1.56125113e-17 -1.48752538e-16]\n",
      " [ 1.43539615e-16  1.70474996e-17  3.99677184e-17 -6.86331400e-17\n",
      "   8.05339711e-17  3.32971545e-17  1.46367101e-16 -7.93968228e-17\n",
      "  -9.09293449e-18 -9.50573855e-17  1.00000000e+00 -9.29937329e-17\n",
      "   3.46944695e-17  2.01227923e-16 -2.77555756e-17]\n",
      " [ 3.48308293e-16  1.88624103e-16  2.33550468e-16 -1.48574096e-16\n",
      "   2.00353706e-16  3.84860811e-16  2.27984035e-18 -6.57425066e-17\n",
      "   1.20772445e-16  1.90726287e-16 -9.29937329e-17  1.00000000e+00\n",
      "  -1.07552856e-16  1.11889664e-16  9.28077060e-17]\n",
      " [ 1.73472348e-16 -1.38777878e-16  1.00613962e-16 -1.24900090e-16\n",
      "   4.16333634e-17  9.36750677e-17 -7.69783542e-17  2.49800181e-16\n",
      "  -1.08420217e-16 -6.24500451e-17  3.46944695e-17 -1.07552856e-16\n",
      "   1.00000000e+00 -1.56125113e-16  5.55111512e-17]\n",
      " [-1.59594560e-16 -1.11022302e-16 -9.02056208e-17  1.82145965e-16\n",
      "  -2.08166817e-17 -3.01841885e-16  8.74951153e-17 -5.55111512e-17\n",
      "  -1.42681006e-16 -1.56125113e-17  2.01227923e-16  1.11889664e-16\n",
      "  -1.56125113e-16  1.00000000e+00  1.92554306e-16]\n",
      " [-2.07733136e-16  0.00000000e+00 -3.53016227e-16  1.16660154e-16\n",
      "  -2.01227923e-16 -1.49186219e-16 -1.12485975e-17 -5.55111512e-17\n",
      "  -2.58148537e-16 -1.48752538e-16 -2.77555756e-17  9.28077060e-17\n",
      "   5.55111512e-17  1.92554306e-16  1.00000000e+00]], which is approxiamately an identity matrix.Thus, Q matrix is orthogonal.\n"
     ]
    }
   ],
   "source": [
    "import numpy as np\n",
    "def product(A):\n",
    "    Q_t = np.identity(m)\n",
    "    \n",
    "    for i in range(n):\n",
    "        e_i = np.zeros(m - i)\n",
    "        e_i[0] = 1\n",
    "        c_i = A[i:m+1,i]\n",
    "        if np.linalg.norm(c_i,2) == 0:\n",
    "            i=i+1\n",
    "        alpha = np.sign(c_i[0])\n",
    "        v_i = alpha*np.linalg.norm(c_i,2)*e_i - c_i\n",
    "        v_i = v_i/np.linalg.norm(v_i)\n",
    "        v_i = np.mat(v_i)\n",
    "        I = np.identity(m)\n",
    "        H_i = I\n",
    "        H_i[i:,i:] = I[i:,i:]-2*(np.matmul(np.transpose(v_i),v_i))\n",
    "        A = np.matmul(H_i, A)\n",
    "        Q_t = np.matmul(H_i,Q_t)\n",
    "        print(Q_t)\n",
    "    return np.transpose(Q_t),Q_t\n",
    "\n",
    "pass\n",
    "rand = np.random.RandomState(0)\n",
    "m = 15\n",
    "n = 10\n",
    "A = rand.randn(m, n)\n",
    "Q, R = householder_qr(A)\n",
    "product = Q @ R\n",
    "print(f\"5. Use the algorithm in Q3 to calcualte QTQ = {product}, which is approxiamately an identity matrix.Thus, Q matrix is orthogonal.\", )"
   ]
  },
  {
   "cell_type": "code",
   "execution_count": 24,
   "metadata": {},
   "outputs": [
    {
     "data": {
      "text/latex": [
       "\\begin{equation}\n",
       "\\text{5. Alternatively, need to show that }Q^TQ = I\\\\\n",
       "Q =(Q_{N-1}...Q_1)^T = Q_1^TQ_2^T....Q_{N-1}^T\\\\\n",
       "Q_1^TQ_1 = I - 4v_1v_1^T + 4v_1v_1^Tv_1v_1^T = I \\text{ by q2}\\\\\n",
       "\n",
       "\\end{equation}\n"
      ],
      "text/plain": [
       "<IPython.core.display.Latex object>"
      ]
     },
     "metadata": {},
     "output_type": "display_data"
    }
   ],
   "source": [
    "%%latex\n",
    "\\begin{equation}\n",
    "\\text{5. Alternatively, need to show that }Q^TQ = I\\\\\n",
    "Q =(Q_{N-1}...Q_1)^T = Q_1^TQ_2^T....Q_{N-1}^T\\\\\n",
    "Q_1^TQ_1 = I - 4v_1v_1^T + 4v_1v_1^Tv_1v_1^T = I \\text{ by q2}\\\\\n",
    "\n",
    "\\end{equation}"
   ]
  },
  {
   "cell_type": "code",
   "execution_count": 26,
   "metadata": {},
   "outputs": [
    {
     "name": "stdout",
     "output_type": "stream",
     "text": [
      "The relative residual for alpha = 1 is 8.078725478738875e-16.\n"
     ]
    }
   ],
   "source": [
    "import numpy as np\n",
    "def householder_qr(A):\n",
    "    R = A.copy()\n",
    "    Q_t = np.identity(m)\n",
    "    \n",
    "    for i in range(n):\n",
    "        e_i = np.zeros(m - i)\n",
    "        e_i[0] = 1\n",
    "        c_i = A[i:m+1,i]\n",
    "        if np.linalg.norm(c_i,2) == 0:\n",
    "            i=i+1\n",
    "        alpha = 1\n",
    "        v_i = alpha*np.linalg.norm(c_i,2)*e_i - c_i\n",
    "        v_i = v_i/np.linalg.norm(v_i)\n",
    "        v_i = np.mat(v_i)\n",
    "        I = np.identity(m)\n",
    "        H_i = I\n",
    "        H_i[i:,i:] = I[i:,i:]-2*(np.matmul(np.transpose(v_i),v_i))\n",
    "        A = np.matmul(H_i, A)\n",
    "        Q_t = np.matmul(H_i,Q_t)\n",
    "        R = np.matmul(H_i,R)\n",
    "    return np.transpose(Q_t),R\n",
    "pass\n",
    "rand = np.random.RandomState(0)\n",
    "m = 15\n",
    "n = 10\n",
    "A = rand.randn(m, n)\n",
    "Q, R = householder_qr(A)\n",
    "rel_residual = np.linalg.norm(A - Q @ R) / np.linalg.norm(A)\n",
    "print(f\"The relative residual for alpha = 1 is {rel_residual}.\")"
   ]
  },
  {
   "cell_type": "code",
   "execution_count": 6,
   "metadata": {},
   "outputs": [
    {
     "data": {
      "text/latex": [
       "\\begin{equation}\n",
       "\\begin{aligned}\n",
       "\\text{The above algorithm shows the relative residual for alpha = 1, which is greater than what we had before.}\\\\\n",
       "\\text{Then we can conclude that if we always choose alpha = 1, the error of QR decomposition will increase.}\n",
       "\\end{aligned}\n",
       "\\end{equation}\n"
      ],
      "text/plain": [
       "<IPython.core.display.Latex object>"
      ]
     },
     "metadata": {},
     "output_type": "display_data"
    }
   ],
   "source": [
    "%%latex\n",
    "\\begin{equation}\n",
    "\\begin{aligned}\n",
    "\\text{The above algorithm shows the relative residual for alpha = 1, which is greater than what we had before.}\\\\\n",
    "\\text{Then we can conclude that if we always choose alpha = 1, the error of QR decomposition will increase.}\n",
    "\\end{aligned}\n",
    "\\end{equation}"
   ]
  },
  {
   "cell_type": "code",
   "execution_count": 7,
   "metadata": {},
   "outputs": [
    {
     "data": {
      "text/latex": [
       "\\begin{equation}\n",
       "\\begin{aligned}\n",
       "\n",
       "\\text{1. Need to solve the equation } (\\lambda I-B)x = 0\\\\\n",
       "\\text{consider }det(B-\\lambda I) = (0-\\lambda)(0-\\lambda)-A^*A = 0 \\\\\n",
       "\\lambda^2 -A^*A = 0 \\\\\n",
       "\\text{Consider } A = UΣV^T =σ_1u_1v_1^T+...+σ_mu_mv_m^T\\\\\n",
       "\\lambda^2 = A^*A= VΣ^TU^*UΣV^* = VΣ^2V^* = Σ^2\\\\\n",
       "\\lambda^2 = (σ_j)^2, \\text{ thus we have eigenvalues of }-σ_j, σ_j\\\\\n",
       "\\text{To find eigenvectors, we subsitute the eigenvalues, we have}\\\\\n",
       "-σ_jx_1+A^*x_2 = 0, Ax_1-σ_jx_2 = 0 \\text{ and}\\\\\n",
       "σ_jx_1+A^*x_2 = 0, Ax_1+σ_jx_2 = 0 \\\\\n",
       "\\text{By solving the linear equations, we end up with x=}\\begin{bmatrix}v_j \\\\ ± u_j \\end{bmatrix}\n",
       "\\end{aligned}\n",
       "\\text{}\n",
       "\\end{equation}\n"
      ],
      "text/plain": [
       "<IPython.core.display.Latex object>"
      ]
     },
     "metadata": {},
     "output_type": "display_data"
    }
   ],
   "source": []
  },
  {
   "cell_type": "code",
   "execution_count": null,
   "metadata": {},
   "outputs": [],
   "source": []
  }
 ],
 "metadata": {
  "kernelspec": {
   "display_name": "Python 3 (ipykernel)",
   "language": "python",
   "name": "python3"
  },
  "language_info": {
   "codemirror_mode": {
    "name": "ipython",
    "version": 3
   },
   "file_extension": ".py",
   "mimetype": "text/x-python",
   "name": "python",
   "nbconvert_exporter": "python",
   "pygments_lexer": "ipython3",
   "version": "3.12.7"
  }
 },
 "nbformat": 4,
 "nbformat_minor": 4
}

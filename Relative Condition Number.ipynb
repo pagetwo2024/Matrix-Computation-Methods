{
 "cells": [
  {
   "cell_type": "code",
   "execution_count": 6,
   "metadata": {},
   "outputs": [
    {
     "data": {
      "text/latex": [
       "\\begin{equation}\n",
       "\\begin{aligned}\n",
       "\\text{1. From }\\|x\\| \\leq \\text{1, we can deduce that }x,y \\leq 1 \\\\\n",
       "\\text{We know that }\\|.\\| \\text{is a norm, so we can apply the properties of norm.}\\\\\n",
       "\\text{For t ∈ [0,1], by triangular inequality, we have}\\\\\n",
       "\\|tx+(1-t)y\\|\\leq \\|tx\\| + \\|(1-t)y\\| = t\\|x\\|+(1-t)\\|y\\|\\leq t + (1-t) = 1 \\\\\n",
       "\\text{Hence }tx + (1-t) y \\leq 1,\\text{ which means it is also in the set.}\\\\\n",
       "\\text{Thus S is convex.}\n",
       "\\end{aligned}\n",
       "\\end{equation}\n"
      ],
      "text/plain": [
       "<IPython.core.display.Latex object>"
      ]
     },
     "metadata": {},
     "output_type": "display_data"
    }
   ],
   "source": [
    "%%latex\n",
    "\\begin{equation}\n",
    "\\begin{aligned}\n",
    "\\text{1. From }\\|x\\| \\leq \\text{1, we can deduce that }x,y \\leq 1 \\\\\n",
    "\\text{We know that }\\|.\\| \\text{is a norm, so we can apply the properties of norm.}\\\\\n",
    "\\text{For t ∈ [0,1], by triangular inequality, we have}\\\\\n",
    "\\|tx+(1-t)y\\|\\leq \\|tx\\| + \\|(1-t)y\\| = t\\|x\\|+(1-t)\\|y\\|\\leq t + (1-t) = 1 \\\\\n",
    "\\text{Hence }tx + (1-t) y \\leq 1,\\text{ which means it is also in the set.}\\\\\n",
    "\\text{Thus S is convex.}\n",
    "\\end{aligned}\n",
    "\\end{equation}"
   ]
  },
  {
   "cell_type": "code",
   "execution_count": 7,
   "metadata": {},
   "outputs": [
    {
     "data": {
      "text/latex": [
       "\\begin{equation}\n",
       "\\begin{aligned}\n",
       "\\text{2. Consider the function ρ< 1 and ρ(x) ∈  S, we can deduce that ρ(x), ρ(y)  ≤ 1 and x,y ≤ 1}\\\\\n",
       "\\text{For the above condition to be satisfied, we choose x = (1,0,0...) and y = (0,1,0...)}\\\\\n",
       "\\text{Then for t ∈ [0,1], by definition, if ρ(tx + (1−t)x) ≤ tρ(x) + (1−t)ρ(x), then the function is convex.}\\\\\n",
       "\\text{Take t = 0.5, we have LHS = }ρ(0.5x+0.5y) = ρ(0.5(x+y)) = (0.5^ρ(2))^{\\frac{1}{ρ}} = 0.5(2)^{\\frac{1}{ρ}}.\\\\\n",
       "\\text{Since ρ<1, }(2)^{\\frac{1}{ρ}}>2, LHS = 0.5(2)^{\\frac{1}{ρ}} >1.\\\\\n",
       "\\text{RHS = }0.5ρ(x)+0.5ρ(y) = 0.5 +0.5 = 1, LHS > RHS.\\\\\n",
       "\\text{Thus this function is not convex in unit sphere. From q1, we know S is convex, so we can conclude that ρ(x) is not a norm.}\n",
       "\\end{aligned}\n",
       "\\end{equation}\n"
      ],
      "text/plain": [
       "<IPython.core.display.Latex object>"
      ]
     },
     "metadata": {},
     "output_type": "display_data"
    }
   ],
   "source": [
    "%%latex\n",
    "\\begin{equation}\n",
    "\\begin{aligned}\n",
    "\\text{2. Consider the function ρ< 1 and ρ(x) ∈  S, we can deduce that ρ(x), ρ(y)  ≤ 1 and x,y ≤ 1}\\\\\n",
    "\\text{For the above condition to be satisfied, we choose x = (1,0,0...) and y = (0,1,0...)}\\\\\n",
    "\\text{Then for t ∈ [0,1], by definition, if ρ(tx + (1−t)x) ≤ tρ(x) + (1−t)ρ(x), then the function is convex.}\\\\\n",
    "\\text{Take t = 0.5, we have LHS = }ρ(0.5x+0.5y) = ρ(0.5(x+y)) = (0.5^ρ(2))^{\\frac{1}{ρ}} = 0.5(2)^{\\frac{1}{ρ}}.\\\\\n",
    "\\text{Since ρ<1, }(2)^{\\frac{1}{ρ}}>2, LHS = 0.5(2)^{\\frac{1}{ρ}} >1.\\\\\n",
    "\\text{RHS = }0.5ρ(x)+0.5ρ(y) = 0.5 +0.5 = 1, LHS > RHS.\\\\\n",
    "\\text{Thus this function is not convex in unit sphere. From q1, we know S is convex, so we can conclude that ρ(x) is not a norm.}\n",
    "\\end{aligned}\n",
    "\\end{equation}"
   ]
  },
  {
   "cell_type": "code",
   "execution_count": 8,
   "metadata": {},
   "outputs": [
    {
     "data": {
      "text/latex": [
       "\\begin{equation}\n",
       "\\begin{aligned}\n",
       "\\text{3. The definition of relative condition number is} \\\\\n",
       "\\lim_{\\delta \\to 0} \\sup_{\\|\\delta x \\|\\leq \\delta }{\\frac {\\|\\delta f(x)\\|/\\|f(x)\\|}{\\|\\delta x\\|/\\|x\\|}}\\\\\n",
       "\\text{Apply this definition to f: x }\\rightarrow \\text{Ax, we have } \\\\\n",
       "\\lim_{\\delta \\to 0} \\sup_{\\|\\delta x \\|\\leq \\delta }{\\frac {\\|A(x+\\delta x)-Ax\\|/\\|Ax\\|}{\\|\\delta x\\|/\\|x\\|}}\\\\\n",
       "\\text{simplify to get } \\lim_{\\delta \\to 0}\\sup_{\\|\\delta x \\|\\leq \\delta }{\\frac{\\|A\\delta x\\|\\|x\\|}{\\|\\delta x\\|\\|Ax\\|}}\\\\\n",
       "\\text{By submultiplicativity, }\\sup_{\\|\\delta x \\|\\leq \\delta }{\\frac{\\|A\\delta x\\|\\|x\\|}{\\|\\delta x\\|\\|Ax\\|}} = {\\frac{\\|A\\|\\delta x\\|\\|x\\|}{\\|\\delta x\\|\\|Ax\\|}} = {\\frac{\\|A\\|\\|x\\|}{\\|Ax\\|}}\\\\\n",
       "\\text{Thus } \\lim_{\\delta \\to 0} \\sup_{\\|\\delta x \\|\\leq \\delta }{\\frac {\\|\\delta f(x)\\|/\\|f(x)\\|}{\\|\\delta x\\|/\\|x\\|}} = {\\frac{\\|A\\|\\|x\\|}{\\|Ax\\|}}\\\\\n",
       "\\text{Now we need to verify this result by applying the formula k(x) =}{\\frac{\\|J(x)\\|\\|x\\|}{\\|f(x)\\|}}\\\\\n",
       "\\text{Since J(x) = f'(x) = d/dx(Ax) = A, k(x)= }{\\frac{\\|A\\|\\|x\\|}{\\|Ax\\|}}\\text{, which is the same as above.}\n",
       "\\end{aligned}\n",
       "\\end{equation}\n"
      ],
      "text/plain": [
       "<IPython.core.display.Latex object>"
      ]
     },
     "metadata": {},
     "output_type": "display_data"
    }
   ],
   "source": [
    "%%latex\n",
    "\\begin{equation}\n",
    "\\begin{aligned}\n",
    "\\text{3. The definition of relative condition number is} \\\\\n",
    "\\lim_{\\delta \\to 0} \\sup_{\\|\\delta x \\|\\leq \\delta }{\\frac {\\|\\delta f(x)\\|/\\|f(x)\\|}{\\|\\delta x\\|/\\|x\\|}}\\\\\n",
    "\\text{Apply this definition to f: x }\\rightarrow \\text{Ax, we have } \\\\\n",
    "\\lim_{\\delta \\to 0} \\sup_{\\|\\delta x \\|\\leq \\delta }{\\frac {\\|A(x+\\delta x)-Ax\\|/\\|Ax\\|}{\\|\\delta x\\|/\\|x\\|}}\\\\\n",
    "\\text{simplify to get } \\lim_{\\delta \\to 0}\\sup_{\\|\\delta x \\|\\leq \\delta }{\\frac{\\|A\\delta x\\|\\|x\\|}{\\|\\delta x\\|\\|Ax\\|}}\\\\\n",
    "\\text{By submultiplicativity, }\\sup_{\\|\\delta x \\|\\leq \\delta }{\\frac{\\|A\\delta x\\|\\|x\\|}{\\|\\delta x\\|\\|Ax\\|}} = {\\frac{\\|A\\|\\delta x\\|\\|x\\|}{\\|\\delta x\\|\\|Ax\\|}} = {\\frac{\\|A\\|\\|x\\|}{\\|Ax\\|}}\\\\\n",
    "\\text{Thus } \\lim_{\\delta \\to 0} \\sup_{\\|\\delta x \\|\\leq \\delta }{\\frac {\\|\\delta f(x)\\|/\\|f(x)\\|}{\\|\\delta x\\|/\\|x\\|}} = {\\frac{\\|A\\|\\|x\\|}{\\|Ax\\|}}\\\\\n",
    "\\text{Now we need to verify this result by applying the formula k(x) =}{\\frac{\\|J(x)\\|\\|x\\|}{\\|f(x)\\|}}\\\\\n",
    "\\text{Since J(x) = f'(x) = d/dx(Ax) = A, k(x)= }{\\frac{\\|A\\|\\|x\\|}{\\|Ax\\|}}\\text{, which is the same as above.}\n",
    "\\end{aligned}\n",
    "\\end{equation}"
   ]
  },
  {
   "cell_type": "code",
   "execution_count": 2,
   "metadata": {},
   "outputs": [
    {
     "name": "stdout",
     "output_type": "stream",
     "text": [
      "Your algorithm obtains: 44.233973588115454.\n",
      "The correct value is: 44.23397...\n"
     ]
    }
   ],
   "source": [
    "import numpy as np\n",
    "def normest(B):\n",
    "    \"\"\"Estimate the 1-norm of a matrix B\"\"\"\n",
    "    \n",
    "    n = B.shape[0]\n",
    "    e = np.ones(n, dtype=np.float64)\n",
    "    x = e / n\n",
    "    \n",
    "    gamma = -1\n",
    "\n",
    "    for _ in range(n):\n",
    "        y=B.dot(x)\n",
    "        ξ=np.sign(y)\n",
    "        z=np.transpose(B).dot(ξ)\n",
    "        ztx = np.transpose(z).dot(x)\n",
    "        zinf = np.linalg.norm(z,np.inf)\n",
    "        if zinf <= ztx:\n",
    "            gamma = np.linalg.norm(y,1)\n",
    "            return gamma\n",
    "        changed = 0\n",
    "        for j in range(n):\n",
    "            if changed == 0:\n",
    "                if zinf == np.sign(z[j])*z[j]:\n",
    "                    x=np.identity(n)[:,j]\n",
    "                    changed = 1\n",
    "\n",
    "    return gamma\n",
    "\n",
    "rand = np.random.RandomState(0)\n",
    "B = rand.randn(50, 50)\n",
    "output = normest(B)\n",
    "print(f\"Your algorithm obtains: {output}.\")\n",
    "print(f\"The correct value is: 44.23397...\")"
   ]
  },
  {
   "cell_type": "code",
   "execution_count": 6,
   "metadata": {},
   "outputs": [
    {
     "name": "stdout",
     "output_type": "stream",
     "text": [
      "Your algorithm obtains: 41.62075915519644.\n",
      "The correct value is: 41.620759...\n"
     ]
    }
   ],
   "source": [
    "import numpy as np\n",
    "def normestinv(B):\n",
    "    \"\"\"Estimate the 1-norm of a matrix B\"\"\"\n",
    "\n",
    "    n = B.shape[0]\n",
    "    e = np.ones(n, dtype=np.float64)\n",
    "    x = e / n\n",
    "    \n",
    "    gamma = -1\n",
    "\n",
    "    for _ in range(n):\n",
    "        y=np.linalg.solve(B,x)\n",
    "        ξ=np.sign(y)\n",
    "        z=np.linalg.solve(np.transpose(B),(ξ))\n",
    "        ztx = np.transpose(z).dot(x)\n",
    "        zinf = np.linalg.norm(z,np.inf)\n",
    "        if zinf <= ztx:\n",
    "            gamma = np.linalg.norm(y,1)\n",
    "            return gamma\n",
    "        changed = 0\n",
    "        for j in range(n):\n",
    "            if changed == 0:\n",
    "                if zinf == np.sign(z[j])*z[j]:\n",
    "                    x=np.identity(n)[:,j]\n",
    "                    changed = 1\n",
    "\n",
    "    return gamma\n",
    "\n",
    "rand = np.random.RandomState(0)\n",
    "B = rand.randn(50, 50)\n",
    "output = normestinv(B)\n",
    "print(f\"Your algorithm obtains: {output}.\")\n",
    "print(f\"The correct value is: 41.620759...\")"
   ]
  },
  {
   "cell_type": "code",
   "execution_count": 4,
   "metadata": {},
   "outputs": [],
   "source": [
    "def condest(A):\n",
    "    return normest(A)*normestinv(A)"
   ]
  },
  {
   "cell_type": "code",
   "execution_count": 9,
   "metadata": {},
   "outputs": [
    {
     "name": "stdout",
     "output_type": "stream",
     "text": [
      "58.74218530682649\n",
      "58.742185306826464\n",
      "123.34060998821107\n",
      "133.8849310444839\n"
     ]
    }
   ],
   "source": [
    "a = rand.randn(10, 10)\n",
    "b = rand.randn(10, 10)\n",
    "print(condest(a))\n",
    "print(np.linalg.cond(a,1))\n",
    "print(condest(b))\n",
    "print(np.linalg.cond(b,1))"
   ]
  },
  {
   "cell_type": "code",
   "execution_count": null,
   "metadata": {},
   "outputs": [],
   "source": []
  }
 ],
 "metadata": {
  "kernelspec": {
   "display_name": "Python 3 (ipykernel)",
   "language": "python",
   "name": "python3"
  },
  "language_info": {
   "codemirror_mode": {
    "name": "ipython",
    "version": 3
   },
   "file_extension": ".py",
   "mimetype": "text/x-python",
   "name": "python",
   "nbconvert_exporter": "python",
   "pygments_lexer": "ipython3",
   "version": "3.12.7"
  }
 },
 "nbformat": 4,
 "nbformat_minor": 4
}

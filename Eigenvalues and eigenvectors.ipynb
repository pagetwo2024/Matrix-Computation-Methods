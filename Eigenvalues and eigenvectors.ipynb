{
 "cells": [
  {
   "cell_type": "code",
   "execution_count": 1,
   "metadata": {},
   "outputs": [
    {
     "data": {
      "text/latex": [
       "\\begin{equation}\n",
       "\\begin{aligned}\n",
       "\\text{1. From the lectures, we know } k(\\lambda) =\\frac{\\|x\\|\\|y\\|}{|x^Hy|} \\text{, where x and y are right and left eigenvectors associated with }\\lambda\\\\\n",
       "\\text{Since we have } α (\\lambda) = 1, \\lambda \\text{ is a simple eigenvalue.}\\\\\n",
       "\\text{Here } \\|x\\| = \\|y\\| = 1 \\text{, so } k(\\lambda) = \\frac{1}{|x^Hy|}\\\\\n",
       "\\text{Consider }Ax = \\lambda x \\text{ , taking the conjuage transpose of this equation, } (Ax)^H = x^HA ^H= \\lambda^H x^H\\\\\n",
       "\\text{And eigenvalues of hermitian matrix are real,  so } \\lambda^H = \\lambda \\\\\n",
       "\\text{Since } A^H = A, \\text{ then } x^HA = \\lambda x^H,x\\text{ is a left eigenvector of A, since we need to take transpose of a left eigenvector when we multiply it from left.} \\\\\n",
       "\\text{Thus the left and right eigenvectors coincide, we have x=y, then }x^Hy = x^Hx = 1,  k(\\lambda) = 1 \\\\\n",
       "\\text{When α > 1, the number of eigenvectors that corresponds to a eigenvalue is greater than one,}\\\\\n",
       "\\text{which means that x and y might be two different eigenvectors.}\\\\\n",
       "\\text{We know that left and right eigenvectors are orthogonal, so if x} \\neq y, \\text{ we  have } x^Hy = 0\\\\\n",
       "\\text{Thus the condition number is undefined.}\\\\\n",
       "\\end{aligned}\n",
       "\\end{equation}\n"
      ],
      "text/plain": [
       "<IPython.core.display.Latex object>"
      ]
     },
     "metadata": {},
     "output_type": "display_data"
    }
   ],
   "source": [
    "%%latex\n",
    "\\begin{equation}\n",
    "\\begin{aligned}\n",
    "\\text{1. From the lectures, we know } k(\\lambda) =\\frac{\\|x\\|\\|y\\|}{|x^Hy|} \\text{, where x and y are right and left eigenvectors associated with }\\lambda\\\\\n",
    "\\text{Since we have } α (\\lambda) = 1, \\lambda \\text{ is a simple eigenvalue.}\\\\\n",
    "\\text{Here } \\|x\\| = \\|y\\| = 1 \\text{, so } k(\\lambda) = \\frac{1}{|x^Hy|}\\\\\n",
    "\\text{Consider }Ax = \\lambda x \\text{ , taking the conjuage transpose of this equation, } (Ax)^H = x^HA ^H= \\lambda^H x^H\\\\\n",
    "\\text{And eigenvalues of hermitian matrix are real,  so } \\lambda^H = \\lambda \\\\\n",
    "\\text{Since } A^H = A, \\text{ then } x^HA = \\lambda x^H,x\\text{ is a left eigenvector of A, since we need to take transpose of a left eigenvector when we multiply it from left.} \\\\\n",
    "\\text{Thus the left and right eigenvectors coincide, we have x=y, then }x^Hy = x^Hx = 1,  k(\\lambda) = 1 \\\\\n",
    "\\text{When α > 1, the number of eigenvectors that corresponds to a eigenvalue is greater than one,}\\\\\n",
    "\\text{which means that x and y might be two different eigenvectors.}\\\\\n",
    "\\text{We know that left and right eigenvectors are orthogonal, so if x} \\neq y, \\text{ we  have } x^Hy = 0\\\\\n",
    "\\text{Thus the condition number is undefined.}\\\\\n",
    "\\end{aligned}\n",
    "\\end{equation}"
   ]
  },
  {
   "cell_type": "code",
   "execution_count": 2,
   "metadata": {},
   "outputs": [
    {
     "data": {
      "text/latex": [
       "\\begin{equation}\n",
       "\\begin{aligned}\n",
       "\\text{2. There are two situations. If z is the eigenvalue of A, then } z = \\lambda,|z-\\lambda | = 0\\\\\\\n",
       "\\text{Since }\\|V\\|_2\\|V^{-1}\\|_2\\|δA\\|_2 \\geq 0 \\text{, i.e 2-norms of matrix are square roots}\\\\\n",
       "\\text{Then it is true for }|z-\\lambda | \\leq \\|V\\|_2\\|V^{-1}\\|_2\\|δA \\|_2 \\\\\n",
       "\\text{If z is not an eigenvalue of A, then z is not an eigenvalue of Λ, det(zI - Λ) }\\neq 0\\\\\n",
       "\\text{Since z is an eigenvalue of A+ δA, we have }\\\\\n",
       "det(zI-A - δA) = 0 = det(V^{-1})det(zI-A - δA)det(V) \\\\\n",
       "\\text{Since det(A) det(B) = det(AB)}\\\\\n",
       "det(V^{-1})det(zI-A - δA)det(V) =det(V^{-1}(zI-A-δA)V)\\\\\n",
       "=det(V^{-1}zIV-V^{-1}AV-V^{-1}δAV)\\\\\n",
       "\\text{Consider we have }A = VΛV^{-1}\\\\\n",
       "\\text{Then }det(V^{-1}zIV-V^{-1}AV-V^{-1}δAV) = det(zI-V^{-1}VΛV^{-1}V-V^{-1}δAV)\\\\\n",
       "=det(zI-Λ-V^{-1}δAV) = det((zI-Λ)(I-(zI-Λ)^{-1}V^{-1}δAV)\\\\\n",
       "=det(zI-Λ)det(I-(zI-Λ)^{-1}V^{-1}δAV)\\\\\n",
       "\\text{Since }det(zI - Λ) \\neq 0, det(I-(zI-Λ)^{-1}V^{-1}δAV) = 0 \\\\\n",
       "\\text{Then 1 is an eigenvalue of }(zI-Λ)^{-1}V^{-1}δAV) \\\\\n",
       "\\text{Consider for matrix A and its eigenvalue } \\lambda, \\|A\\| \\geq |\\lambda | \\\\\n",
       "\\text{Then 1 = |1|} \\leq  \\|(zI-Λ)^{-1}V^{-1}δAV\\| _2 \\leq \\|(zI-Λ)^{-1}\\| _2\\|V^{-1}\\| _2\\|δA\\| _2\\|V\\| _2\\\\\n",
       "\\text{Since Λ is diagonal, zI-Λ is also diagonal}\\\\\n",
       "\\|(zI-Λ)^{-1}\\| _2 = \\text{maximum of the absolute eigenvalues of } (zI-Λ)^{-1}= \\frac{1}{|z- \\lambda|} \\\\\n",
       "\\text{Thus we have } |z-\\lambda | \\leq \\|V\\|_2\\|V^{-1}\\|_2\\|δA \\|_2 \\\\\n",
       "\\end{aligned}\n",
       "\\end{equation}\n"
      ],
      "text/plain": [
       "<IPython.core.display.Latex object>"
      ]
     },
     "metadata": {},
     "output_type": "display_data"
    }
   ],
   "source": [
    "%%latex\n",
    "\\begin{equation}\n",
    "\\begin{aligned}\n",
    "\\text{2. There are two situations. If z is the eigenvalue of A, then } z = \\lambda,|z-\\lambda | = 0\\\\\\\n",
    "\\text{Since }\\|V\\|_2\\|V^{-1}\\|_2\\|δA\\|_2 \\geq 0 \\text{, i.e 2-norms of matrix are square roots}\\\\\n",
    "\\text{Then it is true for }|z-\\lambda | \\leq \\|V\\|_2\\|V^{-1}\\|_2\\|δA \\|_2 \\\\\n",
    "\\text{If z is not an eigenvalue of A, then z is not an eigenvalue of Λ, det(zI - Λ) }\\neq 0\\\\\n",
    "\\text{Since z is an eigenvalue of A+ δA, we have }\\\\\n",
    "det(zI-A - δA) = 0 = det(V^{-1})det(zI-A - δA)det(V) \\\\\n",
    "\\text{Since det(A) det(B) = det(AB)}\\\\\n",
    "det(V^{-1})det(zI-A - δA)det(V) =det(V^{-1}(zI-A-δA)V)\\\\\n",
    "=det(V^{-1}zIV-V^{-1}AV-V^{-1}δAV)\\\\\n",
    "\\text{Consider we have }A = VΛV^{-1}\\\\\n",
    "\\text{Then }det(V^{-1}zIV-V^{-1}AV-V^{-1}δAV) = det(zI-V^{-1}VΛV^{-1}V-V^{-1}δAV)\\\\\n",
    "=det(zI-Λ-V^{-1}δAV) = det((zI-Λ)(I-(zI-Λ)^{-1}V^{-1}δAV)\\\\\n",
    "=det(zI-Λ)det(I-(zI-Λ)^{-1}V^{-1}δAV)\\\\\n",
    "\\text{Since }det(zI - Λ) \\neq 0, det(I-(zI-Λ)^{-1}V^{-1}δAV) = 0 \\\\\n",
    "\\text{Then 1 is an eigenvalue of }(zI-Λ)^{-1}V^{-1}δAV) \\\\\n",
    "\\text{Consider for matrix A and its eigenvalue } \\lambda, \\|A\\| \\geq |\\lambda | \\\\\n",
    "\\text{Then 1 = |1|} \\leq  \\|(zI-Λ)^{-1}V^{-1}δAV\\| _2 \\leq \\|(zI-Λ)^{-1}\\| _2\\|V^{-1}\\| _2\\|δA\\| _2\\|V\\| _2\\\\\n",
    "\\text{Since Λ is diagonal, zI-Λ is also diagonal}\\\\\n",
    "\\|(zI-Λ)^{-1}\\| _2 = \\text{maximum of the absolute eigenvalues of } (zI-Λ)^{-1}= \\frac{1}{|z- \\lambda|} \\\\\n",
    "\\text{Thus we have } |z-\\lambda | \\leq \\|V\\|_2\\|V^{-1}\\|_2\\|δA \\|_2 \\\\\n",
    "\\end{aligned}\n",
    "\\end{equation}"
   ]
  },
  {
   "cell_type": "code",
   "execution_count": 2,
   "metadata": {},
   "outputs": [
    {
     "data": {
      "image/png": "[encoded data removed]",
      "text/plain": [
       "<Figure size 432x288 with 1 Axes>"
      ]
     },
     "metadata": {
      "needs_background": "light"
     },
     "output_type": "display_data"
    }
   ],
   "source": [
    "import numpy as np\n",
    "import matplotlib.pyplot as plt\n",
    "rand = np.random.RandomState(0)\n",
    "A = np.triu(rand.rand(5, 5))\n",
    "x = np.linspace(-0.5,1.5,100)\n",
    "y = np.linspace(-1,1,100)\n",
    "i = (-1)**(1/2)\n",
    "xx,yy = np.meshgrid(x,y,sparse=True)\n",
    "zz = xx+i*yy\n",
    "f = []\n",
    "for i in range(100):\n",
    "    for j in range(100):\n",
    "        f.append(np.log10(np.linalg.norm(np.linalg.inv((zz[i,j])*np.identity(5)-A),2)))\n",
    "f = np.array(f)\n",
    "f = np.reshape(f,(100,100))\n",
    "levels = [1,2,3]\n",
    "CS = plt.contour(x,y,f,levels)\n",
    "\n",
    "labels = ['level 1', 'level 2','level 3']\n",
    "for i in range(len(labels)):\n",
    "    CS.collections[i].set_label(labels[i])\n",
    "\n",
    "plt.legend(loc='upper left')\n",
    "\n",
    "plt.show()"
   ]
  },
  {
   "cell_type": "code",
   "execution_count": 4,
   "metadata": {},
   "outputs": [
    {
     "data": {
      "text/latex": [
       "\\begin{equation}\n",
       "\\begin{aligned}\n",
       "\\text{4. Consider the following equivalent statements from lectures:}\\\\\n",
       "\\text{(1) There exists a vector } \\tilde{x} \\text{ such that }  \\|(A-\\tilde{\\lambda} I)\\tilde{x}\\|_2 \\leq ε \\text{ and } \\|\\tilde{x}\\|_2 = 1\\\\\n",
       "\\text{(2) } \\|(\\tilde{\\lambda} I-A)^{-1}\\|_2 \\geq ε^{-1} \\\\\n",
       "\\text{(3) } \\tilde{\\lambda} \\text{ is an eigenvalue of A + δA for some δA with } \\|δA\\|_2 \\leq ε\\\\\n",
       "\\text{We calculate for }\\|(\\tilde{\\lambda} I-A)^{-1}\\|_2,  \\tilde{\\lambda} =0.9\n",
       "\\end{aligned}\n",
       "\\end{equation}\n"
      ],
      "text/plain": [
       "<IPython.core.display.Latex object>"
      ]
     },
     "metadata": {},
     "output_type": "display_data"
    }
   ],
   "source": [
    "%%latex\n",
    "\\begin{equation}\n",
    "\\begin{aligned}\n",
    "\\text{4. Consider the following equivalent statements from lectures:}\\\\\n",
    "\\text{(1) There exists a vector } \\tilde{x} \\text{ such that }  \\|(A-\\tilde{\\lambda} I)\\tilde{x}\\|_2 \\leq ε \\text{ and } \\|\\tilde{x}\\|_2 = 1\\\\\n",
    "\\text{(2) } \\|(\\tilde{\\lambda} I-A)^{-1}\\|_2 \\geq ε^{-1} \\\\\n",
    "\\text{(3) } \\tilde{\\lambda} \\text{ is an eigenvalue of A + δA for some δA with } \\|δA\\|_2 \\leq ε\\\\\n",
    "\\text{We calculate for }\\|(\\tilde{\\lambda} I-A)^{-1}\\|_2,  \\tilde{\\lambda} =0.9\n",
    "\\end{aligned}\n",
    "\\end{equation}\n"
   ]
  },
  {
   "cell_type": "code",
   "execution_count": 24,
   "metadata": {},
   "outputs": [
    {
     "name": "stdout",
     "output_type": "stream",
     "text": [
      "when z = 0.9, the value is  286.9110119762366 , f(z) lies between level 2 and level 3 from the contour graph\n"
     ]
    }
   ],
   "source": [
    "import numpy as np\n",
    "rand = np.random.RandomState(0)\n",
    "A = np.triu(rand.rand(5, 5))\n",
    "f = np.linalg.norm(np.linalg.inv(0.9*np.identity(5)-A),2)\n",
    "print('when z = 0.9, the value is ', f, ', f(z) lies between level 2 and level 3 from the contour graph')\n"
   ]
  },
  {
   "cell_type": "code",
   "execution_count": 5,
   "metadata": {},
   "outputs": [
    {
     "data": {
      "text/latex": [
       "\\begin{equation}\n",
       "\\begin{aligned}\n",
       "\\text{For  } ε = 10^{-2}, \\text{ we have }(\\tilde{\\lambda} I-A)^{-1}\\|_2 =286.9... > 100 = ε^{-1} \\\\\n",
       "\\text{Thus (2) is satisfied and this implies (1) is true, } \\|(A-\\tilde{\\lambda} I)\\tilde{x}\\|_2 \\leq 10^{-2}\\\\\n",
       "\\text{So this implies (3), } \\tilde{\\lambda} \\text{ is an eigenvalue of A+δA, with } \\|δA\\|_2 \\leq 10^{-2} \\\\\n",
       "\\|δA\\|_2 \\text{ is the backward error of eigenvalue 𝜆 of A, where }  \\tilde{\\lambda } = \\lambda + δ\\lambda \\\\\n",
       "10^{-2} \\text{ is much larger than the order of machine precision, thus it is not backward stable, hence not accurate.}\n",
       "\\end{aligned}\n",
       "\\end{equation}\n"
      ],
      "text/plain": [
       "<IPython.core.display.Latex object>"
      ]
     },
     "metadata": {},
     "output_type": "display_data"
    }
   ],
   "source": [
    "%%latex\n",
    "\\begin{equation}\n",
    "\\begin{aligned}\n",
    "\\text{For  } ε = 10^{-2}, \\text{ we have }(\\tilde{\\lambda} I-A)^{-1}\\|_2 =286.9... > 100 = ε^{-1} \\\\\n",
    "\\text{Thus (2) is satisfied and this implies (1) is true, } \\|(A-\\tilde{\\lambda} I)\\tilde{x}\\|_2 \\leq 10^{-2}\\\\\n",
    "\\text{So this implies (3), } \\tilde{\\lambda} \\text{ is an eigenvalue of A+δA, with } \\|δA\\|_2 \\leq 10^{-2} \\\\\n",
    "\\|δA\\|_2 \\text{ is the backward error of eigenvalue 𝜆 of A, where }  \\tilde{\\lambda } = \\lambda + δ\\lambda \\\\\n",
    "10^{-2} \\text{ is much larger than the order of machine precision, thus it is not backward stable, hence not accurate.}\n",
    "\\end{aligned}\n",
    "\\end{equation}"
   ]
  },
  {
   "cell_type": "code",
   "execution_count": 20,
   "metadata": {},
   "outputs": [
    {
     "name": "stdout",
     "output_type": "stream",
     "text": [
      "eigenvalue and eigenvectors of A are (array([0.5488135 , 0.43758721, 0.56804456, 0.77815675, 0.11827443]), array([[ 1.        , -0.9881218 ,  0.99970748,  0.96868613,  0.63299715],\n",
      "       [ 0.        ,  0.15367276,  0.02393105,  0.23685275, -0.63465718],\n",
      "       [ 0.        ,  0.        ,  0.00350087,  0.07263658,  0.37210222],\n",
      "       [ 0.        ,  0.        ,  0.        ,  0.01648864, -0.19198932],\n",
      "       [ 0.        ,  0.        ,  0.        ,  0.        ,  0.14561907]]))\n"
     ]
    }
   ],
   "source": [
    "import numpy as np\n",
    "rand = np.random.RandomState(0)\n",
    "A = np.triu(rand.rand(5, 5))\n",
    "print('eigenvalue and eigenvectors of A are',np.linalg.eig(A))"
   ]
  },
  {
   "cell_type": "code",
   "execution_count": 22,
   "metadata": {},
   "outputs": [
    {
     "data": {
      "text/latex": [
       "\\begin{equation}\n",
       "\\text{We conclude that the closest actual eigenvalue is 0.778, which is very different from 0.9. This also shows that it is not accurate.}\n",
       "\n",
       "\\end{equation}\n"
      ],
      "text/plain": [
       "<IPython.core.display.Latex object>"
      ]
     },
     "metadata": {},
     "output_type": "display_data"
    }
   ],
   "source": [
    "%%latex\n",
    "\\begin{equation}\n",
    "\\text{We conclude that the closest actual eigenvalue is 0.778, which is very different from 0.9. This also shows that it is not accurate.}\n",
    "\n",
    "\\end{equation}"
   ]
  },
  {
   "cell_type": "code",
   "execution_count": null,
   "metadata": {},
   "outputs": [],
   "source": []
  }
 ],
 "metadata": {
  "kernelspec": {
   "display_name": "Python 3 (ipykernel)",
   "language": "python",
   "name": "python3"
  },
  "language_info": {
   "codemirror_mode": {
    "name": "ipython",
    "version": 3
   },
   "file_extension": ".py",
   "mimetype": "text/x-python",
   "name": "python",
   "nbconvert_exporter": "python",
   "pygments_lexer": "ipython3",
   "version": "3.12.7"
  }
 },
 "nbformat": 4,
 "nbformat_minor": 4
}

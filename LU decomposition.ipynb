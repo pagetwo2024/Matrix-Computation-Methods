{
 "cells": [
  {
   "cell_type": "code",
   "execution_count": 1,
   "metadata": {},
   "outputs": [
    {
     "data": {
      "text/latex": [
       "\\begin{equation}\n",
       "\\begin{aligned}\n",
       "\\text{1. For the dot product }x^Ty \\text{ of two vectors x, y ∈ } R^n \\text{, there is no operation for the transpose.}\\\\\n",
       "\\text{A dot of two vectores requires n multiplications and (n-1) additions, thus the exact number of operation is n+n-1 = 2n-1 }\\\\\n",
       "\\text{For asymptotic cost, it is 2n-1 = O(n)}\\\\\n",
       "\\text{For the matrix vector product Ax for A ∈} R^{nxn}\\text{and } x ∈ R^n \\text{, consider for each row in A, it needs to do a dot product with x}\\\\\n",
       "\\text{There are n rows in A, so the exact number of operation is n(2n-1)} = 2n^2 - n = O(n^2) \\\\\n",
       "\\text{For the matrix matrix product AB for A, B ∈ } R^{nxn}\\text{, consider an element in AB, it is a result of dot product for rows in A and columns in B. }\\\\\n",
       "\\text{In total, we have } n^2 \\text{elements.Thus the exact number of operation is } n^2 \\text{(2n-1) = } 2n^3-n^2 = O(n^3)\n",
       "\\end{aligned}\n",
       "\\end{equation}\n"
      ],
      "text/plain": [
       "<IPython.core.display.Latex object>"
      ]
     },
     "metadata": {},
     "output_type": "display_data"
    }
   ],
   "source": [
    "%%latex\n",
    "\\begin{equation}\n",
    "\\begin{aligned}\n",
    "\\text{1. For the dot product }x^Ty \\text{ of two vectors x, y ∈ } R^n \\text{, there is no operation for the transpose.}\\\\\n",
    "\\text{A dot of two vectores requires n multiplications and (n-1) additions, thus the exact number of operation is n+n-1 = 2n-1 }\\\\\n",
    "\\text{For asymptotic cost, it is 2n-1 = O(n)}\\\\\n",
    "\\text{For the matrix vector product Ax for A ∈} R^{nxn}\\text{and } x ∈ R^n \\text{, consider for each row in A, it needs to do a dot product with x}\\\\\n",
    "\\text{There are n rows in A, so the exact number of operation is n(2n-1)} = 2n^2 - n = O(n^2) \\\\\n",
    "\\text{For the matrix matrix product AB for A, B ∈ } R^{nxn}\\text{, consider an element in AB, it is a result of dot product for rows in A and columns in B. }\\\\\n",
    "\\text{In total, we have } n^2 \\text{elements.Thus the exact number of operation is } n^2 \\text{(2n-1) = } 2n^3-n^2 = O(n^3)\n",
    "\\end{aligned}\n",
    "\\end{equation}"
   ]
  },
  {
   "cell_type": "code",
   "execution_count": 2,
   "metadata": {},
   "outputs": [
    {
     "data": {
      "text/latex": [
       "\\begin{equation}\n",
       "\\begin{aligned}\n",
       "\\text{2. }A = \\begin{pmatrix}\n",
       "D & B  \\\\\n",
       "C & \\hat{A} \\\\ \n",
       "\\end{pmatrix}\\\\\n",
       "\\text{Consider the linear equation} \\begin{pmatrix}\n",
       "D & B  \\\\\n",
       "C & \\hat{A} \\\\ \n",
       "\\end{pmatrix}\\begin{pmatrix}\n",
       "x \\\\\n",
       "y \\\\\n",
       "\\end{pmatrix} = \\begin{pmatrix}\n",
       "b1\\\\\n",
       "b2\\\\\n",
       "\\end{pmatrix}\\\\\n",
       "\\text{Thus we have ① Dx + By = b1, ② Cx +} \\hat{A}y = b2 \\\\\n",
       "\\text{Need to elimate x, and by reareanging equations, we have x = }D^{-1}(b1- By)\\\\\n",
       "\\text{By substituing x in ② we have C}D^{-1}(b1-By)+\\hat{A}y = b2, \\text{ rearrange to get C}D^{-1}b1 + (-CD^{-1}B+\\hat{A})y = b2\\\\\n",
       "\\text{Now we need to compute the LU Decomposition of } -CD^{-1}B+\\hat{A} \\text{. From the lecture we know the cost is }2/3n^3+O(n^2)\\\\\n",
       "\\text{Consider for }CD^{-1}B \\text{, we need to do n operations to invert D and do }n^2\\text{operations to multiply with B}\\\\\n",
       "\\text{This is because D is diagonal, there is no operations for the 0 elements}\\\\\n",
       "\\text{From Q1 we have } 2n^3 - n^2 \\text{ operations for matrix multiplication with } C \\text{ and arbitrary matrix } D^{-1}B\\\\\n",
       "\\text{Condiser substracting } \\hat{A} \\text{, it will do }n^2 \\text{ additions. In total there will be } 2/3n^3+O(n^2)+n+n^2+2n^3-n^2 + n^2= 8/3n^3 + O(n^2)\\\\\n",
       "\\text{For LU Decomposition directly from A, use the same formula but substitute with 2n due to the difference in dimension.}\\\\\n",
       "\\text{So the answer is }16/3n^3 + O(n^2)\\\\\n",
       "\\text{Then we can conclude the ratio is 1/2}\\\\\n",
       "\\end{aligned}\n",
       "\\end{equation}\n"
      ],
      "text/plain": [
       "<IPython.core.display.Latex object>"
      ]
     },
     "metadata": {},
     "output_type": "display_data"
    }
   ],
   "source": [
    "%%latex\n",
    "\\begin{equation}\n",
    "\\begin{aligned}\n",
    "\\text{2. }A = \\begin{pmatrix}\n",
    "D & B  \\\\\n",
    "C & \\hat{A} \\\\ \n",
    "\\end{pmatrix}\\\\\n",
    "\\text{Consider the linear equation} \\begin{pmatrix}\n",
    "D & B  \\\\\n",
    "C & \\hat{A} \\\\ \n",
    "\\end{pmatrix}\\begin{pmatrix}\n",
    "x \\\\\n",
    "y \\\\\n",
    "\\end{pmatrix} = \\begin{pmatrix}\n",
    "b1\\\\\n",
    "b2\\\\\n",
    "\\end{pmatrix}\\\\\n",
    "\\text{Thus we have ① Dx + By = b1, ② Cx +} \\hat{A}y = b2 \\\\\n",
    "\\text{Need to elimate x, and by reareanging equations, we have x = }D^{-1}(b1- By)\\\\\n",
    "\\text{By substituing x in ② we have C}D^{-1}(b1-By)+\\hat{A}y = b2, \\text{ rearrange to get C}D^{-1}b1 + (-CD^{-1}B+\\hat{A})y = b2\\\\\n",
    "\\text{Now we need to compute the LU Decomposition of } -CD^{-1}B+\\hat{A} \\text{. From the lecture we know the cost is }2/3n^3+O(n^2)\\\\\n",
    "\\text{Consider for }CD^{-1}B \\text{, we need to do n operations to invert D and do }n^2\\text{operations to multiply with B}\\\\\n",
    "\\text{This is because D is diagonal, there is no operations for the 0 elements}\\\\\n",
    "\\text{From Q1 we have } 2n^3 - n^2 \\text{ operations for matrix multiplication with } C \\text{ and arbitrary matrix } D^{-1}B\\\\\n",
    "\\text{Condiser substracting } \\hat{A} \\text{, it will do }n^2 \\text{ additions. In total there will be } 2/3n^3+O(n^2)+n+n^2+2n^3-n^2 + n^2= 8/3n^3 + O(n^2)\\\\\n",
    "\\text{For LU Decomposition directly from A, use the same formula but substitute with 2n due to the difference in dimension.}\\\\\n",
    "\\text{So the answer is }16/3n^3 + O(n^2)\\\\\n",
    "\\text{Then we can conclude the ratio is 1/2}\\\\\n",
    "\\end{aligned}\n",
    "\\end{equation}"
   ]
  },
  {
   "cell_type": "code",
   "execution_count": 21,
   "metadata": {},
   "outputs": [
    {
     "name": "stdout",
     "output_type": "stream",
     "text": [
      "Estimated condition number: 5266.348985265797\n",
      "Exact condition number: 3419.1098383559356\n",
      "Estimated condition number: 56706.85114288562\n",
      "Exact condition number: 4499.179594011024\n",
      "Estimated condition number: 843.2977275764391\n",
      "Exact condition number: 5261.453235311026\n"
     ]
    }
   ],
   "source": [
    "import numpy as np\n",
    "def condest(A, ntrials=5, eps=1E-15):\n",
    "\n",
    "    trials = []\n",
    "    e = np.ones(100)\n",
    "    b = np.matmul(A,e)\n",
    "    for trial in range(ntrials):\n",
    "        A_delta = np.random.normal(0,1,(100,100))\n",
    "        A_delta = A_delta*(eps/np.linalg.norm(A_delta,np.inf))\n",
    "        sol = np.linalg.solve(A+A_delta,b)\n",
    "        e_delta = sol - e\n",
    "        trials.append(np.linalg.norm(e_delta,np.inf)*np.linalg.norm(A,np.inf)/(np.linalg.norm(A_delta,np.inf)*np.linalg.norm(e,np.inf)))\n",
    "    return np.amax(trials)\n",
    "\n",
    "A = np.random.randn(100, 100)\n",
    "condition_estimate = condest(A)\n",
    "exact = np.linalg.cond(A, np.inf)\n",
    "\n",
    "print(f\"Estimated condition number: {condition_estimate}\")\n",
    "print(f\"Exact condition number: {exact}\")\n",
    "\n",
    "import numpy as np\n",
    "def condest(A, ntrials=5, eps=1E-16):\n",
    "\n",
    "    trials = []\n",
    "    e = np.ones(100)\n",
    "    b = np.matmul(A,e)\n",
    "    for trial in range(ntrials):\n",
    "        A_delta = np.random.normal(0,1,(100,100))\n",
    "        A_delta = A_delta*(eps/np.linalg.norm(A_delta,np.inf))\n",
    "        sol = np.linalg.solve(A+A_delta,b)\n",
    "        e_delta = sol - e\n",
    "        trials.append(np.linalg.norm(e_delta,np.inf)*np.linalg.norm(A,np.inf)/(np.linalg.norm(A_delta,np.inf)*np.linalg.norm(e,np.inf)))\n",
    "    return np.amax(trials)\n",
    "\n",
    "A = np.random.randn(100, 100)\n",
    "condition_estimate = condest(A)\n",
    "exact = np.linalg.cond(A, np.inf)\n",
    "\n",
    "print(f\"Estimated condition number: {condition_estimate}\")\n",
    "print(f\"Exact condition number: {exact}\")\n",
    "\n",
    "import numpy as np\n",
    "def condest(A, ntrials=5, eps=1E-14):\n",
    "\n",
    "    trials = []\n",
    "    e = np.ones(100)\n",
    "    b = np.matmul(A,e)\n",
    "    for trial in range(ntrials):\n",
    "        A_delta = np.random.normal(0,1,(100,100))\n",
    "        A_delta = A_delta*(eps/np.linalg.norm(A_delta,np.inf))\n",
    "        sol = np.linalg.solve(A+A_delta,b)\n",
    "        e_delta = sol - e\n",
    "        trials.append(np.linalg.norm(e_delta,np.inf)*np.linalg.norm(A,np.inf)/(np.linalg.norm(A_delta,np.inf)*np.linalg.norm(e,np.inf)))\n",
    "    return np.amax(trials)\n",
    "\n",
    "A = np.random.randn(100, 100)\n",
    "condition_estimate = condest(A)\n",
    "exact = np.linalg.cond(A, np.inf)\n",
    "\n",
    "print(f\"Estimated condition number: {condition_estimate}\")\n",
    "print(f\"Exact condition number: {exact}\")\n"
   ]
  },
  {
   "cell_type": "code",
   "execution_count": 3,
   "metadata": {},
   "outputs": [
    {
     "data": {
      "text/latex": [
       "\\begin{equation}\n",
       "\\begin{aligned}\n",
       "\\text{In double precision, since the resolution is E-15, the appropriate value for eps should be E-15.}\\\\\n",
       "\\text{From what I have computed, the eps=E-15 one is also the most accurate estimation(the first pair).}\\\\\n",
       "\\text{For smaller eps, the estimation will become much larger than the exact value(the second pair)}\n",
       "\\end{aligned}\n",
       "\\end{equation}\n"
      ],
      "text/plain": [
       "<IPython.core.display.Latex object>"
      ]
     },
     "metadata": {},
     "output_type": "display_data"
    }
   ],
   "source": [
    "%%latex\n",
    "\\begin{equation}\n",
    "\\begin{aligned}\n",
    "\\text{In double precision, since the resolution is E-15, the appropriate value for eps should be E-15.}\\\\\n",
    "\\text{From what I have computed, the eps=E-15 one is also the most accurate estimation(the first pair).}\\\\\n",
    "\\text{For smaller eps, the estimation will become much larger than the exact value(the second pair)}\n",
    "\\end{aligned}\n",
    "\\end{equation}"
   ]
  },
  {
   "cell_type": "code",
   "execution_count": 25,
   "metadata": {},
   "outputs": [
    {
     "name": "stdout",
     "output_type": "stream",
     "text": [
      "103 µs ± 2.17 µs per loop (mean ± std. dev. of 7 runs, 10000 loops each)\n",
      "349 µs ± 26.6 µs per loop (mean ± std. dev. of 7 runs, 1000 loops each)\n",
      "836 µs ± 17.3 µs per loop (mean ± std. dev. of 7 runs, 1000 loops each)\n",
      "2.16 ms ± 53.5 µs per loop (mean ± std. dev. of 7 runs, 1000 loops each)\n",
      "3.73 ms ± 193 µs per loop (mean ± std. dev. of 7 runs, 100 loops each)\n",
      "5.66 ms ± 261 µs per loop (mean ± std. dev. of 7 runs, 100 loops each)\n",
      "8.86 ms ± 367 µs per loop (mean ± std. dev. of 7 runs, 100 loops each)\n",
      "12.2 ms ± 150 µs per loop (mean ± std. dev. of 7 runs, 100 loops each)\n",
      "16.8 ms ± 183 µs per loop (mean ± std. dev. of 7 runs, 100 loops each)\n"
     ]
    },
    {
     "data": {
      "text/plain": [
       "<function matplotlib.pyplot.show(close=None, block=None)>"
      ]
     },
     "execution_count": 25,
     "metadata": {},
     "output_type": "execute_result"
    },
    {
     "data": {
      "image/png": "[encoded data removed]",
      "text/plain": [
       "<Figure size 432x288 with 1 Axes>"
      ]
     },
     "metadata": {
      "needs_background": "light"
     },
     "output_type": "display_data"
    }
   ],
   "source": [
    "import numpy as np\n",
    "import matplotlib.pyplot as plt\n",
    "\n",
    "x_data=[]\n",
    "y_data=[]\n",
    "for n in range(100,1000,100):\n",
    "    A = np.random.randn(n, n)\n",
    "    b= np.random.randn(n)\n",
    "    compute_time = %timeit -o np.linalg.solve(A, b)\n",
    "    best_time = compute_time.best\n",
    "    x_data.append(n)\n",
    "    y_data.append(best_time)\n",
    "    \n",
    "x=np.array(x_data)\n",
    "y=np.array(y_data)\n",
    "plt.plot(np.log(x),np.log(y))\n",
    "\n",
    "y2 = x**3\n",
    "plt.plot(np.log(x),np.log(y2))\n",
    "plt.show"
   ]
  },
  {
   "cell_type": "code",
   "execution_count": 4,
   "metadata": {},
   "outputs": [
    {
     "data": {
      "text/latex": [
       "\\begin{equation}\n",
       "\\begin{aligned}\n",
       "\\text{It looks like a straight line because the relationship between computation time y and dimension x is } y = ax^k, log(y)=klogx+loga \\\\\n",
       "\\text{The gradient of the two lines are approximately the same, which means they have the same rate of increasing.}\\\\\n",
       "\\text{They have different constants as there is a distance between them.}\n",
       "\\end{aligned}\n",
       "\\end{equation}\n"
      ],
      "text/plain": [
       "<IPython.core.display.Latex object>"
      ]
     },
     "metadata": {},
     "output_type": "display_data"
    }
   ],
   "source": [
    "%%latex\n",
    "\\begin{equation}\n",
    "\\begin{aligned}\n",
    "\\text{It looks like a straight line because the relationship between computation time y and dimension x is } y = ax^k, log(y)=klogx+loga \\\\\n",
    "\\text{The gradient of the two lines are approximately the same, which means they have the same rate of increasing.}\\\\\n",
    "\\text{They have different constants as there is a distance between them.}\n",
    "\\end{aligned}\n",
    "\\end{equation}"
   ]
  },
  {
   "cell_type": "code",
   "execution_count": null,
   "metadata": {},
   "outputs": [],
   "source": []
  }
 ],
 "metadata": {
  "kernelspec": {
   "display_name": "Python 3 (ipykernel)",
   "language": "python",
   "name": "python3"
  },
  "language_info": {
   "codemirror_mode": {
    "name": "ipython",
    "version": 3
   },
   "file_extension": ".py",
   "mimetype": "text/x-python",
   "name": "python",
   "nbconvert_exporter": "python",
   "pygments_lexer": "ipython3",
   "version": "3.12.7"
  }
 },
 "nbformat": 4,
 "nbformat_minor": 4
}
